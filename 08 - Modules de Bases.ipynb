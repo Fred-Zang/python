{
 "cells": [
  {
   "cell_type": "markdown",
   "metadata": {
    "colab_type": "text",
    "id": "view-in-github"
   },
   "source": [
    "<a href=\"https://colab.research.google.com/github/MachineLearnia/Python-tutoriel/blob/master/08%20-%20Modules%20de%20Bases.ipynb\" target=\"_parent\"><img src=\"https://colab.research.google.com/assets/colab-badge.svg\" alt=\"Open In Colab\"/></a>"
   ]
  },
  {
   "cell_type": "markdown",
   "metadata": {
    "colab_type": "text",
    "id": "BUt_YJsDRLNS"
   },
   "source": [
    "# 8/30 Modules de bases de Python\n",
    "Python contient un certain nombre de modules intégrés, qui offrent de nombreuses fonctions mathématiques, statistiques, aléatoires et os tres utiles. Pour importer un module, il faut procéder comme-ci dessous :\n",
    "- **import module** (importe tout le module)\n",
    "- **import module as md** (donne un surnom au module)\n",
    "- **from module import fonction** (importe une fonction du module)\n"
   ]
  },
  {
   "cell_type": "code",
   "execution_count": 1,
   "metadata": {
    "colab": {},
    "colab_type": "code",
    "id": "gmlP-nyNRksg"
   },
   "outputs": [],
   "source": [
    "import math\n",
    "import statistics\n",
    "import random\n",
    "import os\n",
    "import glob"
   ]
  },
  {
   "cell_type": "markdown",
   "metadata": {
    "colab_type": "text",
    "id": "rAZM-GAFTIBW"
   },
   "source": [
    "Vous pouvez également créer vos propres modules et les importer dans d'autres projets. Un module n'est en fait qu'un simple fichier.py qui contient des fonctions et des classes\n"
   ]
  },
  {
   "cell_type": "markdown",
   "metadata": {
    "colab_type": "text",
    "id": "1ETgM9qZRdw1"
   },
   "source": [
    "## 1. Modules math et statistics\n",
    "les modules math et statistics sont en apparence tres utiles, mais en data science, nous utiliserons leurs équivalents dans le package **NUMPY**. Il peut néanmoins etre intéressant de voir les fonctions de bases.\n"
   ]
  },
  {
   "cell_type": "code",
   "execution_count": 2,
   "metadata": {
    "colab": {
     "base_uri": "https://localhost:8080/",
     "height": 51
    },
    "colab_type": "code",
    "id": "cGfVUkdVRE_y",
    "outputId": "edddb1de-d91e-4615-ac5a-65ae846602b1"
   },
   "outputs": [
    {
     "name": "stdout",
     "output_type": "stream",
     "text": [
      "3.141592653589793\n",
      "1.0\n"
     ]
    }
   ],
   "source": [
    "print(math.pi)\n",
    "print(math.cos(2*math.pi))"
   ]
  },
  {
   "cell_type": "code",
   "execution_count": 3,
   "metadata": {
    "colab": {
     "base_uri": "https://localhost:8080/",
     "height": 51
    },
    "colab_type": "code",
    "id": "XwFZrMVdTQyJ",
    "outputId": "992c6517-76de-4240-a043-1a3a199bcfd4"
   },
   "outputs": [
    {
     "name": "stdout",
     "output_type": "stream",
     "text": [
      "3.6\n",
      "4.3\n"
     ]
    }
   ],
   "source": [
    "liste = [1, 4, 6, 2, 5]\n",
    "\n",
    "print(statistics.mean(liste)) # moyenne de la liste\n",
    "print(statistics.variance(liste)) # variance de la liste"
   ]
  },
  {
   "cell_type": "markdown",
   "metadata": {
    "colab_type": "text",
    "id": "AKGXkU5ZTvz8"
   },
   "source": [
    "## 2. Module Random\n",
    "Le module random est l'un des plus utile de Python. En datascience, nous utiliserons surtout sont équivalent **NUMPY**"
   ]
  },
  {
   "cell_type": "code",
   "execution_count": 4,
   "metadata": {
    "colab": {
     "base_uri": "https://localhost:8080/",
     "height": 68
    },
    "colab_type": "code",
    "id": "a2I21oZkTuHB",
    "outputId": "b086dd4c-5168-42db-804d-5e3c4fb2c154"
   },
   "outputs": [
    {
     "name": "stdout",
     "output_type": "stream",
     "text": [
      "2\n",
      "0.7579544029403025\n",
      "8\n"
     ]
    }
   ],
   "source": [
    "random.seed(0) # fixe le générateur aléatoire pour produire toujours le meme résultat\n",
    "\n",
    "print(random.choice(liste)) # choisit un élément au hasard dans la liste\n",
    "\n",
    "print(random.random()) # génére un nombre aléatoire entre 0 et 1\n",
    "\n",
    "print(random.randint(5, 10)) # génére un nombre entier aléatoire entre 5 et 10"
   ]
  },
  {
   "cell_type": "code",
   "execution_count": 5,
   "metadata": {
    "colab": {
     "base_uri": "https://localhost:8080/",
     "height": 34
    },
    "colab_type": "code",
    "id": "5MhdVoC3T-XV",
    "outputId": "01a1c3d3-120d-429a-e2d1-1f05347f7b34"
   },
   "outputs": [
    {
     "data": {
      "text/plain": [
       "[5, 33, 65, 62, 51, 38, 61, 45, 74, 27]"
      ]
     },
     "execution_count": 5,
     "metadata": {},
     "output_type": "execute_result"
    }
   ],
   "source": [
    "random.sample(range(100), 10) # retourne une liste de 10 nombres aléatoires entre 0 et 100"
   ]
  },
  {
   "cell_type": "code",
   "execution_count": 6,
   "metadata": {
    "colab": {
     "base_uri": "https://localhost:8080/",
     "height": 51
    },
    "colab_type": "code",
    "id": "cBrlkD-vU8tt",
    "outputId": "4af02fe1-a09f-4e50-f198-c6d28c26cf13"
   },
   "outputs": [
    {
     "name": "stdout",
     "output_type": "stream",
     "text": [
      "liste de départ [1, 4, 6, 2, 5]\n",
      "liste mélangée [6, 1, 2, 4, 5]\n"
     ]
    }
   ],
   "source": [
    "print('liste de départ', liste)\n",
    "\n",
    "random.shuffle(liste) #mélange les éléments d'une liste\n",
    "\n",
    "print('liste mélangée', liste)"
   ]
  },
  {
   "cell_type": "markdown",
   "metadata": {
    "colab_type": "text",
    "id": "5Xq4Z9LhVbrw"
   },
   "source": [
    "## 3. Modules OS et Glob\n",
    "Les modules OS et GLob sont **essentiels** pour effectuer des opérations sur votre disque dur, comme ouvrir un fichier situé dans un certain répertoire de travail.\n"
   ]
  },
  {
   "cell_type": "code",
   "execution_count": 7,
   "metadata": {
    "colab": {
     "base_uri": "https://localhost:8080/",
     "height": 34
    },
    "colab_type": "code",
    "id": "4Ss3-GnoVNmq",
    "outputId": "ac19dc88-d04d-41a3-e7aa-ba085b465e26"
   },
   "outputs": [
    {
     "data": {
      "text/plain": [
       "'D:\\\\_jupyter_ipynb\\\\02.guillaume\\\\Machine_learningx30'"
      ]
     },
     "execution_count": 7,
     "metadata": {},
     "output_type": "execute_result"
    }
   ],
   "source": [
    "os.getcwd() # affiche le répertoire de travail actuel"
   ]
  },
  {
   "cell_type": "code",
   "execution_count": 8,
   "metadata": {
    "colab": {
     "base_uri": "https://localhost:8080/",
     "height": 34
    },
    "colab_type": "code",
    "id": "GYg0__LiViYP",
    "outputId": "14b6e24a-1765-410d-e636-15184872ebbd"
   },
   "outputs": [
    {
     "name": "stdout",
     "output_type": "stream",
     "text": [
      "['02 - Variables et Fonctions.ipynb', '03 - Structures de Controles.ipynb', '04 - Structures de données (Listes et Tuples).ipynb', '05 - Dictionnaires.ipynb', '06 - List Comprehension.ipynb', '07 - Built-in Functions.ipynb', '08 - Modules de Bases.ipynb', '09 - Programmation Orientée Objet.ipynb', '10 - Numpy (les Bases).ipynb', '11 - Numpy _ Indexing, Slicing, Boolean Indexing.ipynb', '12 - Numpy Maths et Statistiques.ipynb', '13 - Numpy Broadcasting.ipynb', '14 - Matplotlib (les Bases).ipynb', '15 - Matplotlib Top Graphiques.ipynb', '16 - Scipy.ipynb', '17 - Pandas (les Bases).ipynb', '18 - Pandas et Séries Temporelles.ipynb', '19 - Seaborn.ipynb', '20 - Sklearn (les Bases).ipynb', '21 - Sklearn _ Model Selection.ipynb', '21-1 Cross-validation bonus.ipynb', '21-2 Metrics Regression MSE MAE R².ipynb', '21-3 Make_scorer bonus.ipynb', '22 - Sklearn Pre-processing.ipynb', '22 - Sklearn test PowerTransform .ipynb', '22-1 Pipelines avancés.ipynb', '22-2 Imputer pb Nan résolu 1.ipynb', '23 - Sklearn Feature Selection.ipynb', '24 - Sklearn _ Apprentissage Non-supervisé.ipynb', '25 - Sklearn Ensemble Learning.ipynb', '26 - Covid Fred analysis.ipynb', '27 - Exploratory Data Analysis.ipynb', '28 - Prétraitement de données (Corrigé).ipynb', '29 - Modelisation.ipynb', 'Bonus _ Pipelines Composites.ipynb', 'Bonus _ Sklearn Imputers.ipynb', 'Broadcasting.ipynb', 'Matplotlib Contour plot.ipynb', 'Matplotlib Graph .ipynb', 'Matplotlib Graph 3D.ipynb', 'Matplotlib Histogrammes 2D.ipynb', 'Matplotlib imshow(matrice).ipynb', 'Matplotlib Nuages de points 2D.ipynb', 'Matplotlib-Colors-axe-text-fond.ipynb', 'Matplotlib_named_colors.ipynb', 'Overflow V 6-10 DL.ipynb', 'Pandas indexing-slicing.ipynb', 'Pandas Time-Series bitcoin_dataset.ipynb', 'Pandas Titanic_dataset.ipynb', 'Scipy-interpoler-optimiser.ipynb', 'Scipy-traitement signal.ipynb', 'Seaborn data_diamonds.ipynb', 'Seaborn data_iris.ipynb', 'Seaborn data_titanic.ipynb', 'sklearn titanic.ipynb', 'Sklearn _ Model Selection kneighbors.ipynb']\n"
     ]
    }
   ],
   "source": [
    "print(glob.glob('*')) # contenu du repertoire de travail actuel"
   ]
  },
  {
   "cell_type": "code",
   "execution_count": null,
   "metadata": {
    "colab": {},
    "colab_type": "code",
    "id": "gZDOyrbcWC8J"
   },
   "outputs": [],
   "source": []
  }
 ],
 "metadata": {
  "colab": {
   "authorship_tag": "ABX9TyNMaWNa1nHIB7W1Gqz1eq5+",
   "include_colab_link": true,
   "name": "Untitled5.ipynb",
   "provenance": []
  },
  "kernelspec": {
   "display_name": "Python 3 (ipykernel)",
   "language": "python",
   "name": "python3"
  },
  "language_info": {
   "codemirror_mode": {
    "name": "ipython",
    "version": 3
   },
   "file_extension": ".py",
   "mimetype": "text/x-python",
   "name": "python",
   "nbconvert_exporter": "python",
   "pygments_lexer": "ipython3",
   "version": "3.9.13"
  }
 },
 "nbformat": 4,
 "nbformat_minor": 4
}
