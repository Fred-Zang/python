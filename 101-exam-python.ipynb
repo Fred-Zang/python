{
 "cells": [
  {
   "cell_type": "code",
   "execution_count": 2,
   "id": "213a4e0a-37dc-4e2a-a6b3-45a1a5b39669",
   "metadata": {},
   "outputs": [],
   "source": [
    "# importation des packages\n",
    "import pandas as pd\n",
    "import numpy as np"
   ]
  },
  {
   "cell_type": "code",
   "execution_count": 3,
   "id": "444dd1e5-9af5-4351-91a8-fb74ca69c91d",
   "metadata": {},
   "outputs": [
    {
     "data": {
      "text/html": [
       "<div>\n",
       "<style scoped>\n",
       "    .dataframe tbody tr th:only-of-type {\n",
       "        vertical-align: middle;\n",
       "    }\n",
       "\n",
       "    .dataframe tbody tr th {\n",
       "        vertical-align: top;\n",
       "    }\n",
       "\n",
       "    .dataframe thead th {\n",
       "        text-align: right;\n",
       "    }\n",
       "</style>\n",
       "<table border=\"1\" class=\"dataframe\">\n",
       "  <thead>\n",
       "    <tr style=\"text-align: right;\">\n",
       "      <th></th>\n",
       "      <th>age</th>\n",
       "      <th>sex</th>\n",
       "      <th>cp</th>\n",
       "      <th>trestbps</th>\n",
       "      <th>chol</th>\n",
       "      <th>fbs</th>\n",
       "      <th>restecg</th>\n",
       "      <th>thalach</th>\n",
       "      <th>exang</th>\n",
       "      <th>oldpeak</th>\n",
       "      <th>slope</th>\n",
       "      <th>ca</th>\n",
       "      <th>thal</th>\n",
       "      <th>target</th>\n",
       "    </tr>\n",
       "    <tr>\n",
       "      <th>ID</th>\n",
       "      <th></th>\n",
       "      <th></th>\n",
       "      <th></th>\n",
       "      <th></th>\n",
       "      <th></th>\n",
       "      <th></th>\n",
       "      <th></th>\n",
       "      <th></th>\n",
       "      <th></th>\n",
       "      <th></th>\n",
       "      <th></th>\n",
       "      <th></th>\n",
       "      <th></th>\n",
       "      <th></th>\n",
       "    </tr>\n",
       "  </thead>\n",
       "  <tbody>\n",
       "    <tr>\n",
       "      <th>12</th>\n",
       "      <td>63</td>\n",
       "      <td>Male</td>\n",
       "      <td>3</td>\n",
       "      <td>145.0</td>\n",
       "      <td>233.0</td>\n",
       "      <td>1</td>\n",
       "      <td>0</td>\n",
       "      <td>150.0</td>\n",
       "      <td>0.0</td>\n",
       "      <td>2.3</td>\n",
       "      <td>0</td>\n",
       "      <td>0.0</td>\n",
       "      <td>1</td>\n",
       "      <td>1.0</td>\n",
       "    </tr>\n",
       "    <tr>\n",
       "      <th>1264</th>\n",
       "      <td>37</td>\n",
       "      <td>Male</td>\n",
       "      <td>2</td>\n",
       "      <td>130.0</td>\n",
       "      <td>250.0</td>\n",
       "      <td>0</td>\n",
       "      <td>1</td>\n",
       "      <td>187.0</td>\n",
       "      <td>0.0</td>\n",
       "      <td>3.5</td>\n",
       "      <td>0</td>\n",
       "      <td>0.0</td>\n",
       "      <td>2</td>\n",
       "      <td>1.0</td>\n",
       "    </tr>\n",
       "    <tr>\n",
       "      <th>1217</th>\n",
       "      <td>41</td>\n",
       "      <td>Female</td>\n",
       "      <td>1</td>\n",
       "      <td>130.0</td>\n",
       "      <td>204.0</td>\n",
       "      <td>0</td>\n",
       "      <td>0</td>\n",
       "      <td>NaN</td>\n",
       "      <td>0.0</td>\n",
       "      <td>1.4</td>\n",
       "      <td>2</td>\n",
       "      <td>0.0</td>\n",
       "      <td>2</td>\n",
       "      <td>1.0</td>\n",
       "    </tr>\n",
       "    <tr>\n",
       "      <th>1300</th>\n",
       "      <td>56</td>\n",
       "      <td>Male</td>\n",
       "      <td>1</td>\n",
       "      <td>120.0</td>\n",
       "      <td>236.0</td>\n",
       "      <td>0</td>\n",
       "      <td>1</td>\n",
       "      <td>178.0</td>\n",
       "      <td>0.0</td>\n",
       "      <td>0.8</td>\n",
       "      <td>2</td>\n",
       "      <td>0.0</td>\n",
       "      <td>2</td>\n",
       "      <td>1.0</td>\n",
       "    </tr>\n",
       "    <tr>\n",
       "      <th>1049</th>\n",
       "      <td>57</td>\n",
       "      <td>Female</td>\n",
       "      <td>0</td>\n",
       "      <td>120.0</td>\n",
       "      <td>354.0</td>\n",
       "      <td>0</td>\n",
       "      <td>1</td>\n",
       "      <td>163.0</td>\n",
       "      <td>1.0</td>\n",
       "      <td>0.6</td>\n",
       "      <td>2</td>\n",
       "      <td>0.0</td>\n",
       "      <td>2</td>\n",
       "      <td>1.0</td>\n",
       "    </tr>\n",
       "    <tr>\n",
       "      <th>1283</th>\n",
       "      <td>57</td>\n",
       "      <td>Male</td>\n",
       "      <td>0</td>\n",
       "      <td>140.0</td>\n",
       "      <td>192.0</td>\n",
       "      <td>0</td>\n",
       "      <td>1</td>\n",
       "      <td>148.0</td>\n",
       "      <td>0.0</td>\n",
       "      <td>0.4</td>\n",
       "      <td>1</td>\n",
       "      <td>0.0</td>\n",
       "      <td>1</td>\n",
       "      <td>0.0</td>\n",
       "    </tr>\n",
       "    <tr>\n",
       "      <th>1214</th>\n",
       "      <td>56</td>\n",
       "      <td>Female</td>\n",
       "      <td>1</td>\n",
       "      <td>140.0</td>\n",
       "      <td>294.0</td>\n",
       "      <td>0</td>\n",
       "      <td>0</td>\n",
       "      <td>153.0</td>\n",
       "      <td>0.0</td>\n",
       "      <td>1.3</td>\n",
       "      <td>1</td>\n",
       "      <td>0.0</td>\n",
       "      <td>2</td>\n",
       "      <td>1.0</td>\n",
       "    </tr>\n",
       "    <tr>\n",
       "      <th>1212</th>\n",
       "      <td>44</td>\n",
       "      <td>Male</td>\n",
       "      <td>1</td>\n",
       "      <td>120.0</td>\n",
       "      <td>263.0</td>\n",
       "      <td>0</td>\n",
       "      <td>1</td>\n",
       "      <td>173.0</td>\n",
       "      <td>0.0</td>\n",
       "      <td>0.0</td>\n",
       "      <td>2</td>\n",
       "      <td>0.0</td>\n",
       "      <td>3</td>\n",
       "      <td>1.0</td>\n",
       "    </tr>\n",
       "    <tr>\n",
       "      <th>1239</th>\n",
       "      <td>52</td>\n",
       "      <td>Male</td>\n",
       "      <td>2</td>\n",
       "      <td>172.0</td>\n",
       "      <td>199.0</td>\n",
       "      <td>1</td>\n",
       "      <td>1</td>\n",
       "      <td>162.0</td>\n",
       "      <td>0.0</td>\n",
       "      <td>0.5</td>\n",
       "      <td>2</td>\n",
       "      <td>0.0</td>\n",
       "      <td>3</td>\n",
       "      <td>1.0</td>\n",
       "    </tr>\n",
       "    <tr>\n",
       "      <th>1149</th>\n",
       "      <td>57</td>\n",
       "      <td>Male</td>\n",
       "      <td>2</td>\n",
       "      <td>150.0</td>\n",
       "      <td>168.0</td>\n",
       "      <td>0</td>\n",
       "      <td>1</td>\n",
       "      <td>174.0</td>\n",
       "      <td>NaN</td>\n",
       "      <td>1.6</td>\n",
       "      <td>2</td>\n",
       "      <td>0.0</td>\n",
       "      <td>2</td>\n",
       "      <td>1.0</td>\n",
       "    </tr>\n",
       "  </tbody>\n",
       "</table>\n",
       "</div>"
      ],
      "text/plain": [
       "      age     sex  cp  trestbps   chol  fbs  restecg  thalach  exang  oldpeak  \\\n",
       "ID                                                                              \n",
       "12     63    Male   3     145.0  233.0    1        0    150.0    0.0      2.3   \n",
       "1264   37    Male   2     130.0  250.0    0        1    187.0    0.0      3.5   \n",
       "1217   41  Female   1     130.0  204.0    0        0      NaN    0.0      1.4   \n",
       "1300   56    Male   1     120.0  236.0    0        1    178.0    0.0      0.8   \n",
       "1049   57  Female   0     120.0  354.0    0        1    163.0    1.0      0.6   \n",
       "1283   57    Male   0     140.0  192.0    0        1    148.0    0.0      0.4   \n",
       "1214   56  Female   1     140.0  294.0    0        0    153.0    0.0      1.3   \n",
       "1212   44    Male   1     120.0  263.0    0        1    173.0    0.0      0.0   \n",
       "1239   52    Male   2     172.0  199.0    1        1    162.0    0.0      0.5   \n",
       "1149   57    Male   2     150.0  168.0    0        1    174.0    NaN      1.6   \n",
       "\n",
       "      slope   ca  thal  target  \n",
       "ID                              \n",
       "12        0  0.0     1     1.0  \n",
       "1264      0  0.0     2     1.0  \n",
       "1217      2  0.0     2     1.0  \n",
       "1300      2  0.0     2     1.0  \n",
       "1049      2  0.0     2     1.0  \n",
       "1283      1  0.0     1     0.0  \n",
       "1214      1  0.0     2     1.0  \n",
       "1212      2  0.0     3     1.0  \n",
       "1239      2  0.0     3     1.0  \n",
       "1149      2  0.0     2     1.0  "
      ]
     },
     "execution_count": 3,
     "metadata": {},
     "output_type": "execute_result"
    }
   ],
   "source": [
    "# lecture du csv\n",
    "# df = pd.read_csv('heart_disease.csv', sep = ';', index_col = 0)                 # vrai code pour csv exam\n",
    "df = pd.read_excel('data_exam_1.xlsx', index_col = 0)\n",
    "df.head(10)"
   ]
  },
  {
   "cell_type": "code",
   "execution_count": 4,
   "id": "c9d2cda5-3099-41a6-a447-5ba028d124ae",
   "metadata": {},
   "outputs": [
    {
     "data": {
      "text/html": [
       "<div>\n",
       "<style scoped>\n",
       "    .dataframe tbody tr th:only-of-type {\n",
       "        vertical-align: middle;\n",
       "    }\n",
       "\n",
       "    .dataframe tbody tr th {\n",
       "        vertical-align: top;\n",
       "    }\n",
       "\n",
       "    .dataframe thead th {\n",
       "        text-align: right;\n",
       "    }\n",
       "</style>\n",
       "<table border=\"1\" class=\"dataframe\">\n",
       "  <thead>\n",
       "    <tr style=\"text-align: right;\">\n",
       "      <th></th>\n",
       "      <th>age</th>\n",
       "      <th>sex</th>\n",
       "      <th>cp</th>\n",
       "      <th>trestbps</th>\n",
       "      <th>chol</th>\n",
       "      <th>fbs</th>\n",
       "      <th>restecg</th>\n",
       "      <th>thalach</th>\n",
       "      <th>exang</th>\n",
       "      <th>oldpeak</th>\n",
       "      <th>slope</th>\n",
       "      <th>ca</th>\n",
       "      <th>thal</th>\n",
       "      <th>target</th>\n",
       "    </tr>\n",
       "    <tr>\n",
       "      <th>ID</th>\n",
       "      <th></th>\n",
       "      <th></th>\n",
       "      <th></th>\n",
       "      <th></th>\n",
       "      <th></th>\n",
       "      <th></th>\n",
       "      <th></th>\n",
       "      <th></th>\n",
       "      <th></th>\n",
       "      <th></th>\n",
       "      <th></th>\n",
       "      <th></th>\n",
       "      <th></th>\n",
       "      <th></th>\n",
       "    </tr>\n",
       "  </thead>\n",
       "  <tbody>\n",
       "    <tr>\n",
       "      <th>1264</th>\n",
       "      <td>37</td>\n",
       "      <td>Male</td>\n",
       "      <td>2</td>\n",
       "      <td>130.0</td>\n",
       "      <td>250.0</td>\n",
       "      <td>0</td>\n",
       "      <td>1</td>\n",
       "      <td>187.0</td>\n",
       "      <td>0.0</td>\n",
       "      <td>3.5</td>\n",
       "      <td>0</td>\n",
       "      <td>0.0</td>\n",
       "      <td>2</td>\n",
       "      <td>1.0</td>\n",
       "    </tr>\n",
       "  </tbody>\n",
       "</table>\n",
       "</div>"
      ],
      "text/plain": [
       "      age   sex  cp  trestbps   chol  fbs  restecg  thalach  exang  oldpeak  \\\n",
       "ID                                                                            \n",
       "1264   37  Male   2     130.0  250.0    0        1    187.0    0.0      3.5   \n",
       "\n",
       "      slope   ca  thal  target  \n",
       "ID                              \n",
       "1264      0  0.0     2     1.0  "
      ]
     },
     "execution_count": 4,
     "metadata": {},
     "output_type": "execute_result"
    }
   ],
   "source": [
    "# Afficher les informations des patients ayant 37 ans. Sont-ils tous sains?\n",
    "df[df['age']==37].head(10)\n"
   ]
  },
  {
   "cell_type": "code",
   "execution_count": 5,
   "id": "97768212-e738-4d66-9b13-950f413b43bf",
   "metadata": {},
   "outputs": [
    {
     "name": "stdout",
     "output_type": "stream",
     "text": [
      "il n'y a qu'un seul patient de 37 dans tout le data_set et ce patient est malade.\n",
      "\n"
     ]
    }
   ],
   "source": [
    "print(\"il n'y a qu'un seul patient de 37 dans tout le data_set et ce patient est malade.\\n\")"
   ]
  },
  {
   "cell_type": "code",
   "execution_count": 6,
   "id": "996df69f-28c1-4502-bc82-f24eea1ee3da",
   "metadata": {},
   "outputs": [
    {
     "name": "stdout",
     "output_type": "stream",
     "text": [
      "informations du patient le plus âgé :\n",
      " age             71\n",
      "sex         Female\n",
      "cp               1\n",
      "trestbps     160.0\n",
      "chol         302.0\n",
      "fbs              0\n",
      "restecg          1\n",
      "thalach      162.0\n",
      "exang          0.0\n",
      "oldpeak        0.4\n",
      "slope            2\n",
      "ca             2.0\n",
      "thal             2\n",
      "target         1.0\n",
      "Name: 1158, dtype: object \n",
      "\n",
      "ce patient n'est pas malade.\n",
      "\n",
      "age             71\n",
      "sex         Female\n",
      "cp               1\n",
      "trestbps     160.0\n",
      "chol         302.0\n",
      "fbs              0\n",
      "restecg          1\n",
      "thalach      162.0\n",
      "exang          0.0\n",
      "oldpeak        0.4\n",
      "slope            2\n",
      "ca             2.0\n",
      "thal             2\n",
      "target         1.0\n",
      "Name: 1158, dtype: object\n"
     ]
    }
   ],
   "source": [
    "# informations du patient le plus âgé\n",
    "index_age_max = df['age'].idxmax()\n",
    "print(\"informations du patient le plus âgé :\\n\",df.loc[index_age_max],\"\\n\")\n",
    "print(\"ce patient n'est pas malade.\\n\")   # vérifier si target = 0 pas malade ou 1=malade !!!\n",
    "\n",
    "# autre solution rapide\n",
    "print(df.sort_values(by = 'age', ascending = False).iloc[0])"
   ]
  },
  {
   "cell_type": "code",
   "execution_count": 8,
   "id": "74a8e6ba-4dee-4567-a293-4cd3b01e0ce5",
   "metadata": {},
   "outputs": [
    {
     "name": "stdout",
     "output_type": "stream",
     "text": [
      " tableau croisé des proportions de femme et hommes malades ou non.\n",
      "\n"
     ]
    },
    {
     "data": {
      "text/html": [
       "<div>\n",
       "<style scoped>\n",
       "    .dataframe tbody tr th:only-of-type {\n",
       "        vertical-align: middle;\n",
       "    }\n",
       "\n",
       "    .dataframe tbody tr th {\n",
       "        vertical-align: top;\n",
       "    }\n",
       "\n",
       "    .dataframe thead th {\n",
       "        text-align: right;\n",
       "    }\n",
       "</style>\n",
       "<table border=\"1\" class=\"dataframe\">\n",
       "  <thead>\n",
       "    <tr style=\"text-align: right;\">\n",
       "      <th>target</th>\n",
       "      <th>0.0</th>\n",
       "      <th>1.0</th>\n",
       "    </tr>\n",
       "    <tr>\n",
       "      <th>sex</th>\n",
       "      <th></th>\n",
       "      <th></th>\n",
       "    </tr>\n",
       "  </thead>\n",
       "  <tbody>\n",
       "    <tr>\n",
       "      <th>Female</th>\n",
       "      <td>0.666667</td>\n",
       "      <td>0.307692</td>\n",
       "    </tr>\n",
       "    <tr>\n",
       "      <th>Male</th>\n",
       "      <td>0.333333</td>\n",
       "      <td>0.692308</td>\n",
       "    </tr>\n",
       "  </tbody>\n",
       "</table>\n",
       "</div>"
      ],
      "text/plain": [
       "target       0.0       1.0\n",
       "sex                       \n",
       "Female  0.666667  0.307692\n",
       "Male    0.333333  0.692308"
      ]
     },
     "execution_count": 8,
     "metadata": {},
     "output_type": "execute_result"
    }
   ],
   "source": [
    "# Comparer les proportions de malades et non malades entre les patients de sexe masculin et féminin.\n",
    "# tableau croisé entre sex et target\n",
    "sex = df['sex']\n",
    "target = df['target']\n",
    "\n",
    "print(\" tableau croisé des proportions de femme et hommes malades ou non.\\n\")\n",
    "tab_croise =  pd.crosstab(sex,target, rownames=['sex'],  colnames=['target'], normalize=1)\n",
    "tab_croise.head()"
   ]
  },
  {
   "cell_type": "code",
   "execution_count": 11,
   "id": "e49c5eab-3576-4ba6-b725-caf5bbbbb686",
   "metadata": {},
   "outputs": [
    {
     "data": {
      "text/html": [
       "<div>\n",
       "<style scoped>\n",
       "    .dataframe tbody tr th:only-of-type {\n",
       "        vertical-align: middle;\n",
       "    }\n",
       "\n",
       "    .dataframe tbody tr th {\n",
       "        vertical-align: top;\n",
       "    }\n",
       "\n",
       "    .dataframe thead th {\n",
       "        text-align: right;\n",
       "    }\n",
       "</style>\n",
       "<table border=\"1\" class=\"dataframe\">\n",
       "  <thead>\n",
       "    <tr style=\"text-align: right;\">\n",
       "      <th>target</th>\n",
       "      <th>0.0</th>\n",
       "      <th>1.0</th>\n",
       "    </tr>\n",
       "    <tr>\n",
       "      <th>sex</th>\n",
       "      <th></th>\n",
       "      <th></th>\n",
       "    </tr>\n",
       "  </thead>\n",
       "  <tbody>\n",
       "    <tr>\n",
       "      <th>Female</th>\n",
       "      <td>2</td>\n",
       "      <td>8</td>\n",
       "    </tr>\n",
       "    <tr>\n",
       "      <th>Male</th>\n",
       "      <td>1</td>\n",
       "      <td>18</td>\n",
       "    </tr>\n",
       "  </tbody>\n",
       "</table>\n",
       "</div>"
      ],
      "text/plain": [
       "target  0.0  1.0\n",
       "sex             \n",
       "Female    2    8\n",
       "Male      1   18"
      ]
     },
     "execution_count": 11,
     "metadata": {},
     "output_type": "execute_result"
    }
   ],
   "source": [
    "\"\"\" autre solution + rapide \"\"\"\n",
    "df.groupby('sex').target.value_counts() #normalize = True pour obtenir les fréquences\n",
    "# ou bien\n",
    "# pd.crosstab(df.sex, df.target) # = ce que j'ai fait sans nommer ici lignes et colonnes"
   ]
  },
  {
   "cell_type": "code",
   "execution_count": 7,
   "id": "9daf5810-5baf-414c-bd24-6d9ecd9157cd",
   "metadata": {},
   "outputs": [
    {
     "name": "stdout",
     "output_type": "stream",
     "text": [
      "la moyenne d'âge des individus sains est de  58.0 ans.\n",
      "\n",
      "la moyenne d'âge des individus malades est de  53.85 ans.\n",
      "\n"
     ]
    }
   ],
   "source": [
    "# la moyenne d'âge des individus sains et moyenne des malades\n",
    "# leur solution\n",
    "# df.groupby('target')['age'].mean()  super !!!\n",
    "pers_saine = df[df['target']==0]\n",
    "pers_malade = df[df['target']==1]                \n",
    "print(\"la moyenne d'âge des individus sains est de \",round(pers_saine['age'].mean(),2),\"ans.\\n\")\n",
    "print(\"la moyenne d'âge des individus malades est de \",round(pers_malade['age'].mean(),2),\"ans.\\n\")"
   ]
  },
  {
   "cell_type": "code",
   "execution_count": 13,
   "id": "42788d5d-9b72-41f9-9edf-0c105041458d",
   "metadata": {},
   "outputs": [
    {
     "data": {
      "text/plain": [
       "target\n",
       "0.0    58.000000\n",
       "1.0    53.846154\n",
       "Name: age, dtype: float64"
      ]
     },
     "execution_count": 13,
     "metadata": {},
     "output_type": "execute_result"
    }
   ],
   "source": [
    "df.groupby('target').age.mean()"
   ]
  },
  {
   "cell_type": "code",
   "execution_count": 8,
   "id": "a36c5681-b152-4dda-9967-8fb9da4589e7",
   "metadata": {},
   "outputs": [
    {
     "data": {
      "text/html": [
       "<div>\n",
       "<style scoped>\n",
       "    .dataframe tbody tr th:only-of-type {\n",
       "        vertical-align: middle;\n",
       "    }\n",
       "\n",
       "    .dataframe tbody tr th {\n",
       "        vertical-align: top;\n",
       "    }\n",
       "\n",
       "    .dataframe thead th {\n",
       "        text-align: right;\n",
       "    }\n",
       "</style>\n",
       "<table border=\"1\" class=\"dataframe\">\n",
       "  <thead>\n",
       "    <tr style=\"text-align: right;\">\n",
       "      <th></th>\n",
       "      <th>age</th>\n",
       "      <th>sex</th>\n",
       "      <th>cp</th>\n",
       "      <th>trestbps</th>\n",
       "      <th>chol</th>\n",
       "      <th>fbs</th>\n",
       "      <th>restecg</th>\n",
       "      <th>thalach</th>\n",
       "      <th>exang</th>\n",
       "      <th>oldpeak</th>\n",
       "      <th>slope</th>\n",
       "      <th>ca</th>\n",
       "      <th>thal</th>\n",
       "      <th>target</th>\n",
       "    </tr>\n",
       "    <tr>\n",
       "      <th>ID</th>\n",
       "      <th></th>\n",
       "      <th></th>\n",
       "      <th></th>\n",
       "      <th></th>\n",
       "      <th></th>\n",
       "      <th></th>\n",
       "      <th></th>\n",
       "      <th></th>\n",
       "      <th></th>\n",
       "      <th></th>\n",
       "      <th></th>\n",
       "      <th></th>\n",
       "      <th></th>\n",
       "      <th></th>\n",
       "    </tr>\n",
       "  </thead>\n",
       "  <tbody>\n",
       "    <tr>\n",
       "      <th>12</th>\n",
       "      <td>63</td>\n",
       "      <td>0</td>\n",
       "      <td>3</td>\n",
       "      <td>145.0</td>\n",
       "      <td>233.0</td>\n",
       "      <td>1</td>\n",
       "      <td>0</td>\n",
       "      <td>150.0</td>\n",
       "      <td>0.0</td>\n",
       "      <td>2.3</td>\n",
       "      <td>0</td>\n",
       "      <td>0.0</td>\n",
       "      <td>1</td>\n",
       "      <td>1.0</td>\n",
       "    </tr>\n",
       "    <tr>\n",
       "      <th>1264</th>\n",
       "      <td>37</td>\n",
       "      <td>0</td>\n",
       "      <td>2</td>\n",
       "      <td>130.0</td>\n",
       "      <td>250.0</td>\n",
       "      <td>0</td>\n",
       "      <td>1</td>\n",
       "      <td>187.0</td>\n",
       "      <td>0.0</td>\n",
       "      <td>3.5</td>\n",
       "      <td>0</td>\n",
       "      <td>0.0</td>\n",
       "      <td>2</td>\n",
       "      <td>1.0</td>\n",
       "    </tr>\n",
       "    <tr>\n",
       "      <th>1217</th>\n",
       "      <td>41</td>\n",
       "      <td>1</td>\n",
       "      <td>1</td>\n",
       "      <td>130.0</td>\n",
       "      <td>204.0</td>\n",
       "      <td>0</td>\n",
       "      <td>0</td>\n",
       "      <td>NaN</td>\n",
       "      <td>0.0</td>\n",
       "      <td>1.4</td>\n",
       "      <td>2</td>\n",
       "      <td>0.0</td>\n",
       "      <td>2</td>\n",
       "      <td>1.0</td>\n",
       "    </tr>\n",
       "    <tr>\n",
       "      <th>1300</th>\n",
       "      <td>56</td>\n",
       "      <td>0</td>\n",
       "      <td>1</td>\n",
       "      <td>120.0</td>\n",
       "      <td>236.0</td>\n",
       "      <td>0</td>\n",
       "      <td>1</td>\n",
       "      <td>178.0</td>\n",
       "      <td>0.0</td>\n",
       "      <td>0.8</td>\n",
       "      <td>2</td>\n",
       "      <td>0.0</td>\n",
       "      <td>2</td>\n",
       "      <td>1.0</td>\n",
       "    </tr>\n",
       "    <tr>\n",
       "      <th>1049</th>\n",
       "      <td>57</td>\n",
       "      <td>1</td>\n",
       "      <td>0</td>\n",
       "      <td>120.0</td>\n",
       "      <td>354.0</td>\n",
       "      <td>0</td>\n",
       "      <td>1</td>\n",
       "      <td>163.0</td>\n",
       "      <td>1.0</td>\n",
       "      <td>0.6</td>\n",
       "      <td>2</td>\n",
       "      <td>0.0</td>\n",
       "      <td>2</td>\n",
       "      <td>1.0</td>\n",
       "    </tr>\n",
       "  </tbody>\n",
       "</table>\n",
       "</div>"
      ],
      "text/plain": [
       "      age  sex  cp  trestbps   chol  fbs  restecg  thalach  exang  oldpeak  \\\n",
       "ID                                                                           \n",
       "12     63    0   3     145.0  233.0    1        0    150.0    0.0      2.3   \n",
       "1264   37    0   2     130.0  250.0    0        1    187.0    0.0      3.5   \n",
       "1217   41    1   1     130.0  204.0    0        0      NaN    0.0      1.4   \n",
       "1300   56    0   1     120.0  236.0    0        1    178.0    0.0      0.8   \n",
       "1049   57    1   0     120.0  354.0    0        1    163.0    1.0      0.6   \n",
       "\n",
       "      slope   ca  thal  target  \n",
       "ID                              \n",
       "12        0  0.0     1     1.0  \n",
       "1264      0  0.0     2     1.0  \n",
       "1217      2  0.0     2     1.0  \n",
       "1300      2  0.0     2     1.0  \n",
       "1049      2  0.0     2     1.0  "
      ]
     },
     "execution_count": 8,
     "metadata": {},
     "output_type": "execute_result"
    }
   ],
   "source": [
    "# remplacement des catégories de la colonne sex par 0 ou 1\n",
    "df['sex'].replace(to_replace=['Male','Female'], value=[0,1], inplace=True)\n",
    "df.head()"
   ]
  },
  {
   "cell_type": "code",
   "execution_count": 9,
   "id": "56ea1588-aec2-4601-8b6d-3e4f814faabf",
   "metadata": {},
   "outputs": [
    {
     "data": {
      "text/html": [
       "<div>\n",
       "<style scoped>\n",
       "    .dataframe tbody tr th:only-of-type {\n",
       "        vertical-align: middle;\n",
       "    }\n",
       "\n",
       "    .dataframe tbody tr th {\n",
       "        vertical-align: top;\n",
       "    }\n",
       "\n",
       "    .dataframe thead th {\n",
       "        text-align: right;\n",
       "    }\n",
       "</style>\n",
       "<table border=\"1\" class=\"dataframe\">\n",
       "  <thead>\n",
       "    <tr style=\"text-align: right;\">\n",
       "      <th></th>\n",
       "      <th>age</th>\n",
       "      <th>sex</th>\n",
       "      <th>cp</th>\n",
       "      <th>trestbps</th>\n",
       "      <th>chol</th>\n",
       "      <th>fbs</th>\n",
       "      <th>restecg</th>\n",
       "      <th>thalach</th>\n",
       "      <th>exang</th>\n",
       "      <th>oldpeak</th>\n",
       "      <th>slope</th>\n",
       "      <th>ca</th>\n",
       "      <th>thal</th>\n",
       "      <th>target</th>\n",
       "    </tr>\n",
       "    <tr>\n",
       "      <th>ID</th>\n",
       "      <th></th>\n",
       "      <th></th>\n",
       "      <th></th>\n",
       "      <th></th>\n",
       "      <th></th>\n",
       "      <th></th>\n",
       "      <th></th>\n",
       "      <th></th>\n",
       "      <th></th>\n",
       "      <th></th>\n",
       "      <th></th>\n",
       "      <th></th>\n",
       "      <th></th>\n",
       "      <th></th>\n",
       "    </tr>\n",
       "  </thead>\n",
       "  <tbody>\n",
       "    <tr>\n",
       "      <th>1056</th>\n",
       "      <td>49</td>\n",
       "      <td>0</td>\n",
       "      <td>1</td>\n",
       "      <td>130.0</td>\n",
       "      <td>266.0</td>\n",
       "      <td>0</td>\n",
       "      <td>1</td>\n",
       "      <td>19500.0</td>\n",
       "      <td>0.0</td>\n",
       "      <td>0.6</td>\n",
       "      <td>2</td>\n",
       "      <td>0.0</td>\n",
       "      <td>2</td>\n",
       "      <td>1.0</td>\n",
       "    </tr>\n",
       "  </tbody>\n",
       "</table>\n",
       "</div>"
      ],
      "text/plain": [
       "      age  sex  cp  trestbps   chol  fbs  restecg  thalach  exang  oldpeak  \\\n",
       "ID                                                                           \n",
       "1056   49    0   1     130.0  266.0    0        1  19500.0    0.0      0.6   \n",
       "\n",
       "      slope   ca  thal  target  \n",
       "ID                              \n",
       "1056      2  0.0     2     1.0  "
      ]
     },
     "execution_count": 9,
     "metadata": {},
     "output_type": "execute_result"
    }
   ],
   "source": [
    "# recherche des valeur aberrantes de la colonne 'thalach'\n",
    "aberrant = df[(df['thalach']<50) | (df['thalach']>250)]\n",
    "aberrant.head()"
   ]
  },
  {
   "cell_type": "code",
   "execution_count": 10,
   "id": "342f20c1-4184-4f31-97ff-2aa86caf74ae",
   "metadata": {},
   "outputs": [
    {
     "name": "stdout",
     "output_type": "stream",
     "text": [
      "il y a une valeur aberrante cardiaque de 19500 qu'on remplace par 195.\n",
      "\n"
     ]
    }
   ],
   "source": [
    "print(\"il y a une valeur aberrante cardiaque de 19500 qu'on remplace par 195.\\n\")"
   ]
  },
  {
   "cell_type": "code",
   "execution_count": 11,
   "id": "e9f97f61-056e-4180-8b1c-3a3fdd7ec48a",
   "metadata": {},
   "outputs": [
    {
     "data": {
      "text/html": [
       "<div>\n",
       "<style scoped>\n",
       "    .dataframe tbody tr th:only-of-type {\n",
       "        vertical-align: middle;\n",
       "    }\n",
       "\n",
       "    .dataframe tbody tr th {\n",
       "        vertical-align: top;\n",
       "    }\n",
       "\n",
       "    .dataframe thead th {\n",
       "        text-align: right;\n",
       "    }\n",
       "</style>\n",
       "<table border=\"1\" class=\"dataframe\">\n",
       "  <thead>\n",
       "    <tr style=\"text-align: right;\">\n",
       "      <th></th>\n",
       "      <th>age</th>\n",
       "      <th>sex</th>\n",
       "      <th>cp</th>\n",
       "      <th>trestbps</th>\n",
       "      <th>chol</th>\n",
       "      <th>fbs</th>\n",
       "      <th>restecg</th>\n",
       "      <th>thalach</th>\n",
       "      <th>exang</th>\n",
       "      <th>oldpeak</th>\n",
       "      <th>slope</th>\n",
       "      <th>ca</th>\n",
       "      <th>thal</th>\n",
       "      <th>target</th>\n",
       "    </tr>\n",
       "    <tr>\n",
       "      <th>ID</th>\n",
       "      <th></th>\n",
       "      <th></th>\n",
       "      <th></th>\n",
       "      <th></th>\n",
       "      <th></th>\n",
       "      <th></th>\n",
       "      <th></th>\n",
       "      <th></th>\n",
       "      <th></th>\n",
       "      <th></th>\n",
       "      <th></th>\n",
       "      <th></th>\n",
       "      <th></th>\n",
       "      <th></th>\n",
       "    </tr>\n",
       "  </thead>\n",
       "  <tbody>\n",
       "    <tr>\n",
       "      <th>1056</th>\n",
       "      <td>49</td>\n",
       "      <td>0</td>\n",
       "      <td>1</td>\n",
       "      <td>130.0</td>\n",
       "      <td>266.0</td>\n",
       "      <td>0</td>\n",
       "      <td>1</td>\n",
       "      <td>195.0</td>\n",
       "      <td>0.0</td>\n",
       "      <td>0.6</td>\n",
       "      <td>2</td>\n",
       "      <td>0.0</td>\n",
       "      <td>2</td>\n",
       "      <td>1.0</td>\n",
       "    </tr>\n",
       "  </tbody>\n",
       "</table>\n",
       "</div>"
      ],
      "text/plain": [
       "      age  sex  cp  trestbps   chol  fbs  restecg  thalach  exang  oldpeak  \\\n",
       "ID                                                                           \n",
       "1056   49    0   1     130.0  266.0    0        1    195.0    0.0      0.6   \n",
       "\n",
       "      slope   ca  thal  target  \n",
       "ID                              \n",
       "1056      2  0.0     2     1.0  "
      ]
     },
     "execution_count": 11,
     "metadata": {},
     "output_type": "execute_result"
    }
   ],
   "source": [
    "# remplacement de la valeur aberrante\n",
    "df.loc[aberrant.index,'thalach'] = 195\n",
    "df.loc[aberrant.index]"
   ]
  },
  {
   "cell_type": "code",
   "execution_count": 14,
   "id": "d16438db-1fd0-4bdf-b0ee-6217ce12949c",
   "metadata": {},
   "outputs": [],
   "source": [
    "\"\"\" leur solution \"\"\"\n",
    "df.loc[df['thalach'].idxmax(), \"thalach\"] = 195"
   ]
  },
  {
   "cell_type": "code",
   "execution_count": 12,
   "id": "917741bb-31fe-4bb5-9244-0e5262e29da4",
   "metadata": {},
   "outputs": [
    {
     "data": {
      "text/plain": [
       "age         0\n",
       "sex         0\n",
       "cp          0\n",
       "trestbps    0\n",
       "chol        0\n",
       "fbs         0\n",
       "restecg     0\n",
       "thalach     2\n",
       "exang       1\n",
       "oldpeak     0\n",
       "slope       0\n",
       "ca          1\n",
       "thal        0\n",
       "target      1\n",
       "dtype: int64"
      ]
     },
     "execution_count": 12,
     "metadata": {},
     "output_type": "execute_result"
    }
   ],
   "source": [
    "# Afficher le nombre de valeurs manquantes pour chaque colonne de df\n",
    "df.isnull().sum(axis = 0)"
   ]
  },
  {
   "cell_type": "code",
   "execution_count": 13,
   "id": "23d86db2-98fc-4e17-a7ea-3dbf5de06572",
   "metadata": {},
   "outputs": [],
   "source": [
    "# Supprimer les lignes de df qui ont NaN en colonne 'target'\n",
    "df.dropna(axis=0, how='all', subset=['target'], inplace=True)\n",
    "# eux + simple\n",
    "df = df.dropna(subset=['target'])\n"
   ]
  },
  {
   "cell_type": "code",
   "execution_count": 14,
   "id": "031c50b0-4b9f-4b80-8be6-2aecb9afc804",
   "metadata": {},
   "outputs": [],
   "source": [
    "# Remplacement des NaN de la colonne ca par son mode\n",
    "df['ca'].fillna(df['ca'].mode()[0], inplace=True) "
   ]
  },
  {
   "cell_type": "code",
   "execution_count": 15,
   "id": "10ecc6fd-93e5-40fc-a254-4742e1f61ee7",
   "metadata": {},
   "outputs": [
    {
     "data": {
      "text/plain": [
       "age         0\n",
       "sex         0\n",
       "cp          0\n",
       "trestbps    0\n",
       "chol        0\n",
       "fbs         0\n",
       "restecg     0\n",
       "thalach     2\n",
       "exang       1\n",
       "oldpeak     0\n",
       "slope       0\n",
       "ca          0\n",
       "thal        0\n",
       "target      0\n",
       "dtype: int64"
      ]
     },
     "execution_count": 15,
     "metadata": {},
     "output_type": "execute_result"
    }
   ],
   "source": [
    "df.isnull().sum(axis = 0) # pour vérif bon remplacement"
   ]
  },
  {
   "cell_type": "code",
   "execution_count": 16,
   "id": "1f5c6b8d-1c69-473c-a154-28c30e4c0bc7",
   "metadata": {},
   "outputs": [],
   "source": [
    "# Remplacement des NaN de la colonne exang par son mode\n",
    "df['exang'].fillna(df['exang'].mode()[0], inplace=True)"
   ]
  },
  {
   "cell_type": "code",
   "execution_count": 17,
   "id": "164b9512-d9ab-4907-a965-468256d26376",
   "metadata": {},
   "outputs": [
    {
     "data": {
      "text/plain": [
       "age         0\n",
       "sex         0\n",
       "cp          0\n",
       "trestbps    0\n",
       "chol        0\n",
       "fbs         0\n",
       "restecg     0\n",
       "thalach     2\n",
       "exang       0\n",
       "oldpeak     0\n",
       "slope       0\n",
       "ca          0\n",
       "thal        0\n",
       "target      0\n",
       "dtype: int64"
      ]
     },
     "execution_count": 17,
     "metadata": {},
     "output_type": "execute_result"
    }
   ],
   "source": [
    "df.isnull().sum(axis = 0) # pour vérif bon remplacement"
   ]
  },
  {
   "cell_type": "code",
   "execution_count": 18,
   "id": "38753bb1-33cd-40ce-8eda-aae787342a4b",
   "metadata": {},
   "outputs": [],
   "source": [
    "# remplacement des autres NaN par leur mediane respective\n",
    "# eux super rapide\n",
    "# df = df.fillna(df.median())  super !!!\n",
    "# ici je ne vois que sur 'thalac' mais BIEN VERIFIER !!!\n",
    "\n",
    "df['thalach'].fillna(df['thalach'].median(), inplace=True)"
   ]
  },
  {
   "cell_type": "code",
   "execution_count": 19,
   "id": "9a882aa2-63bd-4986-8bb0-ae3db1a7afbc",
   "metadata": {},
   "outputs": [
    {
     "data": {
      "text/plain": [
       "age         0\n",
       "sex         0\n",
       "cp          0\n",
       "trestbps    0\n",
       "chol        0\n",
       "fbs         0\n",
       "restecg     0\n",
       "thalach     0\n",
       "exang       0\n",
       "oldpeak     0\n",
       "slope       0\n",
       "ca          0\n",
       "thal        0\n",
       "target      0\n",
       "dtype: int64"
      ]
     },
     "execution_count": 19,
     "metadata": {},
     "output_type": "execute_result"
    }
   ],
   "source": [
    "df.isnull().sum(axis = 0) # pour vérif bon remplacement ou df.isna().sum().sum() pour la totalité sur tout le df"
   ]
  },
  {
   "cell_type": "code",
   "execution_count": 20,
   "id": "8aa22c90-fba4-4cef-9d50-d984f022b83a",
   "metadata": {},
   "outputs": [],
   "source": [
    "# separation des variables explicatives X de la target y\n",
    "y = df['target']\n",
    "X = df.drop('target', axis=1)"
   ]
  },
  {
   "cell_type": "code",
   "execution_count": 36,
   "id": "401e85f3-41e0-4894-9832-c274a51ec877",
   "metadata": {},
   "outputs": [
    {
     "data": {
      "text/html": [
       "<div>\n",
       "<style scoped>\n",
       "    .dataframe tbody tr th:only-of-type {\n",
       "        vertical-align: middle;\n",
       "    }\n",
       "\n",
       "    .dataframe tbody tr th {\n",
       "        vertical-align: top;\n",
       "    }\n",
       "\n",
       "    .dataframe thead th {\n",
       "        text-align: right;\n",
       "    }\n",
       "</style>\n",
       "<table border=\"1\" class=\"dataframe\">\n",
       "  <thead>\n",
       "    <tr style=\"text-align: right;\">\n",
       "      <th></th>\n",
       "      <th>age</th>\n",
       "      <th>sex</th>\n",
       "      <th>cp</th>\n",
       "      <th>trestbps</th>\n",
       "      <th>chol</th>\n",
       "      <th>fbs</th>\n",
       "      <th>restecg</th>\n",
       "      <th>thalach</th>\n",
       "      <th>exang</th>\n",
       "      <th>oldpeak</th>\n",
       "      <th>slope</th>\n",
       "      <th>ca</th>\n",
       "      <th>thal</th>\n",
       "    </tr>\n",
       "    <tr>\n",
       "      <th>ID</th>\n",
       "      <th></th>\n",
       "      <th></th>\n",
       "      <th></th>\n",
       "      <th></th>\n",
       "      <th></th>\n",
       "      <th></th>\n",
       "      <th></th>\n",
       "      <th></th>\n",
       "      <th></th>\n",
       "      <th></th>\n",
       "      <th></th>\n",
       "      <th></th>\n",
       "      <th></th>\n",
       "    </tr>\n",
       "  </thead>\n",
       "  <tbody>\n",
       "    <tr>\n",
       "      <th>12</th>\n",
       "      <td>0.529412</td>\n",
       "      <td>-1.0</td>\n",
       "      <td>1.000000</td>\n",
       "      <td>0.129032</td>\n",
       "      <td>-0.477912</td>\n",
       "      <td>1.0</td>\n",
       "      <td>-1.0</td>\n",
       "      <td>-0.111111</td>\n",
       "      <td>-1.0</td>\n",
       "      <td>0.314286</td>\n",
       "      <td>-1.0</td>\n",
       "      <td>-1.0</td>\n",
       "      <td>-1.0</td>\n",
       "    </tr>\n",
       "    <tr>\n",
       "      <th>1264</th>\n",
       "      <td>-1.000000</td>\n",
       "      <td>-1.0</td>\n",
       "      <td>0.333333</td>\n",
       "      <td>-0.354839</td>\n",
       "      <td>-0.341365</td>\n",
       "      <td>-1.0</td>\n",
       "      <td>1.0</td>\n",
       "      <td>0.802469</td>\n",
       "      <td>-1.0</td>\n",
       "      <td>1.000000</td>\n",
       "      <td>-1.0</td>\n",
       "      <td>-1.0</td>\n",
       "      <td>0.0</td>\n",
       "    </tr>\n",
       "    <tr>\n",
       "      <th>1217</th>\n",
       "      <td>-0.764706</td>\n",
       "      <td>1.0</td>\n",
       "      <td>-0.333333</td>\n",
       "      <td>-0.354839</td>\n",
       "      <td>-0.710843</td>\n",
       "      <td>-1.0</td>\n",
       "      <td>-1.0</td>\n",
       "      <td>0.160494</td>\n",
       "      <td>-1.0</td>\n",
       "      <td>-0.200000</td>\n",
       "      <td>1.0</td>\n",
       "      <td>-1.0</td>\n",
       "      <td>0.0</td>\n",
       "    </tr>\n",
       "    <tr>\n",
       "      <th>1300</th>\n",
       "      <td>0.117647</td>\n",
       "      <td>-1.0</td>\n",
       "      <td>-0.333333</td>\n",
       "      <td>-0.677419</td>\n",
       "      <td>-0.453815</td>\n",
       "      <td>-1.0</td>\n",
       "      <td>1.0</td>\n",
       "      <td>0.580247</td>\n",
       "      <td>-1.0</td>\n",
       "      <td>-0.542857</td>\n",
       "      <td>1.0</td>\n",
       "      <td>-1.0</td>\n",
       "      <td>0.0</td>\n",
       "    </tr>\n",
       "    <tr>\n",
       "      <th>1049</th>\n",
       "      <td>0.176471</td>\n",
       "      <td>1.0</td>\n",
       "      <td>-1.000000</td>\n",
       "      <td>-0.677419</td>\n",
       "      <td>0.493976</td>\n",
       "      <td>-1.0</td>\n",
       "      <td>1.0</td>\n",
       "      <td>0.209877</td>\n",
       "      <td>1.0</td>\n",
       "      <td>-0.657143</td>\n",
       "      <td>1.0</td>\n",
       "      <td>-1.0</td>\n",
       "      <td>0.0</td>\n",
       "    </tr>\n",
       "  </tbody>\n",
       "</table>\n",
       "</div>"
      ],
      "text/plain": [
       "           age  sex        cp  trestbps      chol  fbs  restecg   thalach  \\\n",
       "ID                                                                          \n",
       "12    0.529412 -1.0  1.000000  0.129032 -0.477912  1.0     -1.0 -0.111111   \n",
       "1264 -1.000000 -1.0  0.333333 -0.354839 -0.341365 -1.0      1.0  0.802469   \n",
       "1217 -0.764706  1.0 -0.333333 -0.354839 -0.710843 -1.0     -1.0  0.160494   \n",
       "1300  0.117647 -1.0 -0.333333 -0.677419 -0.453815 -1.0      1.0  0.580247   \n",
       "1049  0.176471  1.0 -1.000000 -0.677419  0.493976 -1.0      1.0  0.209877   \n",
       "\n",
       "      exang   oldpeak  slope   ca  thal  \n",
       "ID                                       \n",
       "12     -1.0  0.314286   -1.0 -1.0  -1.0  \n",
       "1264   -1.0  1.000000   -1.0 -1.0   0.0  \n",
       "1217   -1.0 -0.200000    1.0 -1.0   0.0  \n",
       "1300   -1.0 -0.542857    1.0 -1.0   0.0  \n",
       "1049    1.0 -0.657143    1.0 -1.0   0.0  "
      ]
     },
     "execution_count": 36,
     "metadata": {},
     "output_type": "execute_result"
    }
   ],
   "source": [
    "# normalisation de X sur [-1;1]\n",
    "def normalize_scaler(dataframe):\n",
    "    \"\"\" \n",
    "    dataframe totalement numérique dont aucune colonne n'est totalement de même valeur ( qui serait à éliminer donc car sans intérêt ).\n",
    "    La fonction normalise chaque colonne sur [-1 ; +1]\n",
    "    return : df normalisé\n",
    "    \"\"\"\n",
    "    df = dataframe.copy()  # copy du dataframe car modification des colonnes sur place\n",
    "    n = df.shape[1]\n",
    "    for i in range(n):    \n",
    "        col = df.iloc[:,i]    # pour chaque colonne \n",
    "        min = col.min()       # on stock min et max \n",
    "        max = col.max()\n",
    "        col_norm = 2*(col - col.min())/(col.max() - col.min())-1 # normalisation de la colonne\n",
    "        df.iloc[:,i] = col_norm  # remplacement de la colonne par sa normalisation\n",
    "    return df\n",
    "\n",
    "X_norm = normalize_scaler(X)\n",
    "X_norm.head()"
   ]
  },
  {
   "cell_type": "code",
   "execution_count": null,
   "id": "b75f2995-34ce-496a-b835-093c40e10db7",
   "metadata": {},
   "outputs": [],
   "source": [
    "# SOLUTION SUPER SIMPLE\n",
    "X_norm = 2* (X - X.min()) / (X.max() - X.min()) - 1\n",
    "\n",
    "X_norm = X.apply(lambda x : 2*(x-x.min())/(x.max() - x.min()) - 1)"
   ]
  },
  {
   "cell_type": "code",
   "execution_count": 29,
   "id": "ec21a064-dfec-4655-9036-5f341f431531",
   "metadata": {},
   "outputs": [
    {
     "data": {
      "text/plain": [
       "KNeighborsClassifier(n_neighbors=6)"
      ]
     },
     "execution_count": 29,
     "metadata": {},
     "output_type": "execute_result"
    }
   ],
   "source": [
    "              # apprentisage des données \n",
    "# chargement des modules\n",
    "from sklearn.model_selection import train_test_split\n",
    "from sklearn.neighbors import KNeighborsClassifier\n",
    "from sklearn.metrics import *\n",
    "\n",
    "# division du jeu de données en train_set et test_set avec 30% de test_set\n",
    "X_train, X_test, y_train, y_test = train_test_split(X_norm, y, test_size=0.3, random_state=5)\n",
    "\n",
    "# choix d'un modèle de classification\n",
    "knn = KNeighborsClassifier(n_neighbors = 6)\n",
    "\n",
    "# entrainement du jeu de données\n",
    "knn.fit(X_train, y_train)"
   ]
  },
  {
   "cell_type": "code",
   "execution_count": 30,
   "id": "64f39fbc-d21e-475a-b3ec-9fb821c07163",
   "metadata": {},
   "outputs": [
    {
     "name": "stdout",
     "output_type": "stream",
     "text": [
      "rapport de classification \n",
      "               precision    recall  f1-score   support\n",
      "\n",
      "         0.0       1.00      0.00      0.00         1\n",
      "         1.0       0.89      1.00      0.94         8\n",
      "\n",
      "    accuracy                           0.89         9\n",
      "   macro avg       0.94      0.50      0.47         9\n",
      "weighted avg       0.90      0.89      0.84         9\n",
      "\n"
     ]
    }
   ],
   "source": [
    "# prédiction et évaluation du model knn\n",
    "y_pred_test_knn = knn.predict(X_test)\n",
    "print(\"rapport de classification \\n\",classification_report(y_test, y_pred_test_knn, zero_division=1))"
   ]
  },
  {
   "cell_type": "code",
   "execution_count": 31,
   "id": "6b0e5fd6-87ad-4a69-be86-fdca7b3580bd",
   "metadata": {},
   "outputs": [
    {
     "name": "stdout",
     "output_type": "stream",
     "text": [
      "le taux de prédiction correct est de :  0.8888888888888888\n"
     ]
    }
   ],
   "source": [
    "print(\"le taux de prédiction correct est de : \",accuracy_score(y_test, y_pred_test_knn))"
   ]
  },
  {
   "cell_type": "code",
   "execution_count": 32,
   "id": "14020346-84d1-4756-a50a-fc82b9297099",
   "metadata": {},
   "outputs": [
    {
     "name": "stdout",
     "output_type": "stream",
     "text": [
      "matrice de confusion \n",
      " [[0 1]\n",
      " [0 8]]\n"
     ]
    }
   ],
   "source": [
    "( VN, FP ) , ( FN, VP ) = confusion_matrix(y_test, y_pred_test_knn)\n",
    "print(\"matrice de confusion \\n\", confusion_matrix(y_test, y_pred_test_knn))"
   ]
  },
  {
   "cell_type": "code",
   "execution_count": 33,
   "id": "41da2625-fe4f-48d0-b227-dfb3838092bf",
   "metadata": {},
   "outputs": [
    {
     "name": "stdout",
     "output_type": "stream",
     "text": [
      "VN =  0  FP =  1  FN =  0  VP = 8\n"
     ]
    }
   ],
   "source": [
    "( VN, FP ) , ( FN, VP ) = confusion_matrix(y_test, y_pred_test_knn)\n",
    "print(\"matrice de confusion \\n\", confusion_matrix(y_test, y_pred_test_knn))"
   ]
  },
  {
   "cell_type": "code",
   "execution_count": 34,
   "id": "5b02dd90-c907-45d4-a963-7b49e9b0d964",
   "metadata": {},
   "outputs": [
    {
     "name": "stdout",
     "output_type": "stream",
     "text": [
      "Sur l'échatillon de test,  0  patients malades n'ont pas été détectés par le modèle.\n"
     ]
    }
   ],
   "source": [
    "print(\"Sur l'échatillon de test, \", FN,\" patients malades n'ont pas été détectés par le modèle.\")"
   ]
  },
  {
   "cell_type": "code",
   "execution_count": null,
   "id": "b6f89ec9-02aa-469e-98ba-9b67e7b1bea6",
   "metadata": {},
   "outputs": [],
   "source": [
    "# le modèle peut être optimisé en fonction de ses hyperparamètres\n",
    "# il nous faudrait aussi une + grande quantité de données"
   ]
  },
  {
   "cell_type": "code",
   "execution_count": 22,
   "id": "f4329db8-12e3-43bd-8d90-d43a2495e283",
   "metadata": {},
   "outputs": [
    {
     "data": {
      "text/plain": [
       "pandas.core.frame.DataFrame"
      ]
     },
     "execution_count": 22,
     "metadata": {},
     "output_type": "execute_result"
    }
   ],
   "source": [
    "type(df)"
   ]
  },
  {
   "cell_type": "code",
   "execution_count": null,
   "id": "0e684956-3088-40b1-b1b6-ad06b14be56a",
   "metadata": {},
   "outputs": [],
   "source": []
  },
  {
   "cell_type": "code",
   "execution_count": null,
   "id": "63ccb0c8-39ec-4607-8698-26939356f462",
   "metadata": {},
   "outputs": [],
   "source": []
  }
 ],
 "metadata": {
  "kernelspec": {
   "display_name": "Python 3 (ipykernel)",
   "language": "python",
   "name": "python3"
  },
  "language_info": {
   "codemirror_mode": {
    "name": "ipython",
    "version": 3
   },
   "file_extension": ".py",
   "mimetype": "text/x-python",
   "name": "python",
   "nbconvert_exporter": "python",
   "pygments_lexer": "ipython3",
   "version": "3.9.13"
  }
 },
 "nbformat": 4,
 "nbformat_minor": 5
}
