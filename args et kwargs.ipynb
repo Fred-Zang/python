{
 "cells": [
  {
   "cell_type": "markdown",
   "id": "1acf6449-2fe8-4964-a143-f7dece25a1e5",
   "metadata": {},
   "source": [
    "### SOIT LA FONCTION SOMME DE 3 NOMBRES +> DONC 3 ARGUMENTS SEULEMENT OBLIGATOIRES"
   ]
  },
  {
   "cell_type": "code",
   "execution_count": 2,
   "id": "a92a8f74-6073-42d9-8643-ff9f183173dd",
   "metadata": {},
   "outputs": [
    {
     "name": "stdout",
     "output_type": "stream",
     "text": [
      "sum: 35\n"
     ]
    }
   ],
   "source": [
    "def adder(x,y,z):\n",
    "    print(\"sum:\",x+y+z)\n",
    "\n",
    "adder(10,12,13)"
   ]
  },
  {
   "cell_type": "code",
   "execution_count": 3,
   "id": "ae3906aa-d945-4bcb-aa36-0627ee0c4f8e",
   "metadata": {},
   "outputs": [
    {
     "data": {
      "text/plain": [
       "' IMPOSSIBLE DE PASSER + DE 3 ARGUMENTS DANS adder()'"
      ]
     },
     "execution_count": 3,
     "metadata": {},
     "output_type": "execute_result"
    }
   ],
   "source": [
    "\"\"\" IMPOSSIBLE DE PASSER + DE 3 ARGUMENTS DANS adder()\"\"\""
   ]
  },
  {
   "cell_type": "markdown",
   "id": "b67e99d2-c312-4e43-b0d4-13c9c4fe8aa4",
   "metadata": {},
   "source": [
    "### 1 - *args (Arguments sans mot-clé)  - *num"
   ]
  },
  {
   "cell_type": "code",
   "execution_count": 5,
   "id": "f9dac9bd-e662-4c8c-ac65-32ece49a8107",
   "metadata": {},
   "outputs": [
    {
     "data": {
      "text/plain": [
       "\" on peut mettre autant d'arguments ( sans clé) que l'on veut dans adder \""
      ]
     },
     "execution_count": 5,
     "metadata": {},
     "output_type": "execute_result"
    }
   ],
   "source": [
    "\"\"\" on peut mettre autant d'arguments ( sans clé) que l'on veut dans adder \"\"\""
   ]
  },
  {
   "cell_type": "code",
   "execution_count": 4,
   "id": "4f7986d1-756e-410c-8a9f-49ed7a400cd1",
   "metadata": {},
   "outputs": [
    {
     "name": "stdout",
     "output_type": "stream",
     "text": [
      "Sum: 8\n",
      "Sum: 22\n",
      "Sum: 17\n"
     ]
    }
   ],
   "source": [
    "def adder(*num):    # LE * = args PUIS on peut mettre un nom ou bien le mot args si on ne veut pas nommer cet argument\n",
    "    sum = 0\n",
    "    \n",
    "    for n in num:\n",
    "        sum = sum + n   # faut quand meme modifier la fonction par une boucle for ici !\n",
    "\n",
    "    print(\"Sum:\",sum)\n",
    "\n",
    "adder(3,5)           # 2 args\n",
    "adder(4,5,6,7)       # 4 args\n",
    "adder(1,2,3,5,6)     # 5 args"
   ]
  },
  {
   "cell_type": "markdown",
   "id": "4dab45b1-5d6c-46c6-9fad-83dff2cae0ff",
   "metadata": {},
   "source": [
    "### 2 - **kwargs (arguments de mot-clé)  -  **data"
   ]
  },
  {
   "cell_type": "code",
   "execution_count": 7,
   "id": "146633fd-8c2e-4763-bb83-c2cfda0ff85d",
   "metadata": {},
   "outputs": [
    {
     "name": "stdout",
     "output_type": "stream",
     "text": [
      "\n",
      "Data type of argument: <class 'dict'>\n",
      "Firstname is Sita\n",
      "Lastname is Sharma\n",
      "Age is 22\n",
      "Phone is 1234567890\n",
      "\n",
      "Data type of argument: <class 'dict'>\n",
      "Firstname is John\n",
      "Lastname is Wood\n",
      "Email is johnwood@nomail.com\n",
      "Country is Wakanda\n",
      "Age is 25\n",
      "Phone is 9876543210\n"
     ]
    }
   ],
   "source": [
    "def entree(**data):  # LE ** = kwargs PUIS on peut mettre un nom ou bien le mot kwargs si on ne veut pas nommer cet argument\n",
    "    print(\"\\nData type of argument:\",type(data))\n",
    "\n",
    "    for key, value in data.items():\n",
    "        print(\"{} is {}\".format(key,value))\n",
    "\n",
    "entree(Firstname=\"Sita\", Lastname=\"Sharma\", Age=22, Phone=1234567890)\n",
    "entree(Firstname=\"John\", Lastname=\"Wood\", Email=\"johnwood@nomail.com\", Country=\"Wakanda\", Age=25, Phone=9876543210)"
   ]
  },
  {
   "cell_type": "code",
   "execution_count": null,
   "id": "f2794535-33ba-4172-b00a-40398b442fa1",
   "metadata": {},
   "outputs": [],
   "source": []
  }
 ],
 "metadata": {
  "kernelspec": {
   "display_name": "Python 3 (ipykernel)",
   "language": "python",
   "name": "python3"
  },
  "language_info": {
   "codemirror_mode": {
    "name": "ipython",
    "version": 3
   },
   "file_extension": ".py",
   "mimetype": "text/x-python",
   "name": "python",
   "nbconvert_exporter": "python",
   "pygments_lexer": "ipython3",
   "version": "3.9.13"
  }
 },
 "nbformat": 4,
 "nbformat_minor": 5
}
