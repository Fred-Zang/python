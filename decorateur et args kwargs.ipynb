{
 "cells": [
  {
   "cell_type": "code",
   "execution_count": null,
   "id": "4913e841-de65-4755-a5da-429c7a5bcae9",
   "metadata": {},
   "outputs": [],
   "source": [
    "\"\"\"on souhaite mesurer la durée d'exécution d'une fonction. \n",
    "Pour cela, nous importons la librairie time et avec le code suivant, nous allons mesurer le temps d'exécution de la fonction pause.\"\"\""
   ]
  },
  {
   "cell_type": "code",
   "execution_count": 1,
   "id": "739dbd2e-cd6d-44cf-920a-566da6e19111",
   "metadata": {},
   "outputs": [
    {
     "name": "stdout",
     "output_type": "stream",
     "text": [
      "Début ...\n",
      "Fin !\n",
      "Durée d'exécution : 10.0s\n"
     ]
    }
   ],
   "source": [
    "import time\n",
    "\n",
    "def pause():\n",
    "    print(\"Début ...\")\n",
    "    time.sleep(10)  # Pause de 2 secondes\n",
    "    print(\"Fin !\")\n",
    "\n",
    "start_time = time.time()  # Temps avant exécution\n",
    "pause()\n",
    "end_time = time.time()  # Temps après exécution\n",
    "print(\"Durée d'exécution : {:1.3}s\".format(end_time - start_time))\n",
    "# 1 = width = largeur du format  = 1 str minimum et .3=précision de 3 chiffres après la virgule"
   ]
  },
  {
   "cell_type": "markdown",
   "id": "153140a1-0855-49ce-8e24-27d5abd8bc60",
   "metadata": {
    "tags": []
   },
   "source": [
    "Le problème, c'est qu'à chaque fois que l'on souhaitera mesurer la durée d'exécution d'une fonction, \n",
    "il faudra copier-coller l'affectation aux variables start_time et end_time, puis afficher la durée avec un print.\n",
    "### C'est ici que les décorateurs de fonctions vont nous être utile. \n",
    "Elles viennent englober une fonction et vont permettrent, par exemple, d'exécuter des instructions avant ou après l'exécution de la fonction."
   ]
  },
  {
   "cell_type": "code",
   "execution_count": 2,
   "id": "45a4f43e-7033-4c4e-977b-523437024e24",
   "metadata": {},
   "outputs": [
    {
     "name": "stdout",
     "output_type": "stream",
     "text": [
      "Début ...\n",
      "Fin !\n",
      "Durée d'exécution : 10.0s\n"
     ]
    }
   ],
   "source": [
    "def timing(func):    # La fonction timing attends un paramètre, la fonction dont nous allons calculer la durée d'exécution.\n",
    "    \"\"\"\n",
    "    Mesure le temps d'exécution d'une fonction.\n",
    "    \"\"\"\n",
    "    def wrapper():   # À l'intérieur de timing, nous avons crée une fonction wrapper qui sera renvoyée par la fonction timing.\n",
    "        start_time = time.time()\n",
    "        func()\n",
    "        end_time = time.time()\n",
    "        print(\"Durée d'exécution : {:1.3}s\".format(end_time - start_time))\n",
    "# Cette fonction wrapper va calculer le temps avant puis après l'exécution de la fonction et afficher la durée avec un print\n",
    "    return wrapper\n",
    "\n",
    "timing(pause)()  # timing(pause) est une fonction Python, d'où la présence des parenthèses à la fin pour l'exécuter."
   ]
  },
  {
   "cell_type": "markdown",
   "id": "0c81721d-66a9-4ffc-ab99-2c85f07e6035",
   "metadata": {},
   "source": [
    "### Mais plutôt que d'utiliser cette écriture à chaque exécution de la fonction pause, \n",
    "# 1 - un décorateur de fonction va effectuer la même opération."
   ]
  },
  {
   "cell_type": "code",
   "execution_count": 3,
   "id": "f2a1b7b0-1e22-4953-90e1-9bfa582edaf0",
   "metadata": {},
   "outputs": [
    {
     "name": "stdout",
     "output_type": "stream",
     "text": [
      "Début ...\n",
      "Fin !\n",
      "Durée d'exécution : 2.01s\n"
     ]
    }
   ],
   "source": [
    "@timing  # La fonction timing(pause) sera exécuté à chaque appel de la fonction pause\n",
    "def pause():\n",
    "    print(\"Début ...\")\n",
    "    time.sleep(2)  # Pause de 2 secondes\n",
    "    print(\"Fin !\")\n",
    "    \n",
    "pause()"
   ]
  },
  {
   "cell_type": "markdown",
   "id": "db9e61f3-35f8-4c69-95cb-0d388e6d57e7",
   "metadata": {},
   "source": [
    "# 2 -Un décorateur avec des arguments dans la fonction\n",
    "### Une situation qui arrive souvent, c'est lorsque la fonction décorée, en l'occurrence ici la fonction pause, s'attend à avoir des paramètres."
   ]
  },
  {
   "cell_type": "code",
   "execution_count": 6,
   "id": "882aeb74-863e-4720-a30e-9239133cc69f",
   "metadata": {},
   "outputs": [
    {
     "ename": "TypeError",
     "evalue": "wrapper() got an unexpected keyword argument 't'",
     "output_type": "error",
     "traceback": [
      "\u001b[1;31m---------------------------------------------------------------------------\u001b[0m",
      "\u001b[1;31mTypeError\u001b[0m                                 Traceback (most recent call last)",
      "Cell \u001b[1;32mIn[6], line 7\u001b[0m\n\u001b[0;32m      4\u001b[0m     time\u001b[38;5;241m.\u001b[39msleep(t)  \u001b[38;5;66;03m# Pause de t secondes\u001b[39;00m\n\u001b[0;32m      5\u001b[0m     \u001b[38;5;28mprint\u001b[39m(\u001b[38;5;124m\"\u001b[39m\u001b[38;5;124mFin !\u001b[39m\u001b[38;5;124m\"\u001b[39m)\n\u001b[1;32m----> 7\u001b[0m \u001b[43mpause\u001b[49m\u001b[43m(\u001b[49m\u001b[43mt\u001b[49m\u001b[38;5;241;43m=\u001b[39;49m\u001b[38;5;241;43m2\u001b[39;49m\u001b[43m)\u001b[49m\n",
      "\u001b[1;31mTypeError\u001b[0m: wrapper() got an unexpected keyword argument 't'"
     ]
    }
   ],
   "source": [
    "@timing\n",
    "def pause(t):\n",
    "    print(\"Début ...\")\n",
    "    time.sleep(t)  # Pause de t secondes\n",
    "    print(\"Fin !\")\n",
    "    \n",
    "pause(t=2)"
   ]
  },
  {
   "cell_type": "markdown",
   "id": "54a5e7f8-3ac2-4451-90c7-7bce509aaa81",
   "metadata": {},
   "source": [
    "### Error le paramètre spécifié ici n'est pas envoyé à pause mais à timing(pause) (c'est-à-dire au wrapper)."
   ]
  },
  {
   "cell_type": "code",
   "execution_count": 7,
   "id": "6bdec2f6-8053-4a33-b680-81aecb176588",
   "metadata": {},
   "outputs": [],
   "source": [
    "def timing_fct(func):\n",
    "    \"\"\"\n",
    "    Mesure le temps d'exécution d'une fonction. Nous avons défini deux arguments dans le wrapper\n",
    "    L'argument *args permet de spécifier des paramètres positionnels (selon leur position lors de l'appel de la fonction)\n",
    "    L'argument **kwargs permet de spécifier des paramètres nommés (de la forme param=valeur).\n",
    "    Ces arguments sont ré-utilisés lors de l'appel de la fonction func.\n",
    "    \"\"\"\n",
    "    def wrapper(*args, **kwargs):  # *args = arguments sans mot-clé -   **kwargs = arguments de mots-clés\n",
    "        start_time = time.time()\n",
    "        func(*args, **kwargs)\n",
    "        end_time = time.time()\n",
    "        print(\"Durée d'exécution : {:1.3}s\".format(end_time - start_time))\n",
    "\n",
    "    return wrapper"
   ]
  },
  {
   "cell_type": "code",
   "execution_count": 8,
   "id": "658bb1ba-4afc-412d-89a2-ede070b3365b",
   "metadata": {},
   "outputs": [
    {
     "name": "stdout",
     "output_type": "stream",
     "text": [
      "Début ...\n",
      "Fin !\n",
      "Durée d'exécution : 2.02s\n"
     ]
    }
   ],
   "source": [
    "@timing_fct\n",
    "def pause(t):\n",
    "    print(\"Début ...\")\n",
    "    time.sleep(t)  # Pause de t secondes\n",
    "    print(\"Fin !\")\n",
    " \n",
    "\"\"\" Ainsi, en exécutant pause(2), le paramètre 2 sera envoyé directement à la fonction pause par l'intermédiaire du wrapper.\"\"\"\n",
    "pause(t=2)"
   ]
  },
  {
   "cell_type": "code",
   "execution_count": 9,
   "id": "07c1e348-0d1b-4827-921e-39456cd06555",
   "metadata": {},
   "outputs": [
    {
     "name": "stdout",
     "output_type": "stream",
     "text": [
      "Début ...\n",
      "Fin !\n",
      "Durée d'exécution : 9.0s\n"
     ]
    }
   ],
   "source": [
    "pause(9)"
   ]
  },
  {
   "cell_type": "markdown",
   "id": "7b2bcdac-89f4-4dec-b362-19ace728eb23",
   "metadata": {},
   "source": [
    "## exemple division par 0 - décorateur limitant"
   ]
  },
  {
   "cell_type": "code",
   "execution_count": 10,
   "id": "8c8a6261-d749-461b-ac14-f96a3160e3ae",
   "metadata": {},
   "outputs": [],
   "source": [
    "def smart_divide(func):\n",
    "    def b_non_null(a, b):\n",
    "        print(\"I am going to divide\", a, \"and\", b)\n",
    "        if b == 0:\n",
    "            print(\"Whoops! cannot divide\")\n",
    "            return\n",
    "\n",
    "        return func(a, b)\n",
    "    return b_non_null\n",
    "\n",
    "\n",
    "@smart_divide\n",
    "def divide(a, b):\n",
    "    print(a/b)"
   ]
  },
  {
   "cell_type": "code",
   "execution_count": 11,
   "id": "5123ae4a-cb8c-4ca8-8ace-2e1a3614232a",
   "metadata": {},
   "outputs": [
    {
     "name": "stdout",
     "output_type": "stream",
     "text": [
      "I am going to divide 5 and 2\n",
      "2.5\n"
     ]
    }
   ],
   "source": [
    "divide(5, 2)"
   ]
  },
  {
   "cell_type": "code",
   "execution_count": 12,
   "id": "2842b804-6030-4852-877b-1eae930c41be",
   "metadata": {},
   "outputs": [
    {
     "name": "stdout",
     "output_type": "stream",
     "text": [
      "I am going to divide 5 and 0\n",
      "Whoops! cannot divide\n"
     ]
    }
   ],
   "source": [
    "divide(5, 0)"
   ]
  }
 ],
 "metadata": {
  "kernelspec": {
   "display_name": "Python 3 (ipykernel)",
   "language": "python",
   "name": "python3"
  },
  "language_info": {
   "codemirror_mode": {
    "name": "ipython",
    "version": 3
   },
   "file_extension": ".py",
   "mimetype": "text/x-python",
   "name": "python",
   "nbconvert_exporter": "python",
   "pygments_lexer": "ipython3",
   "version": "3.9.13"
  }
 },
 "nbformat": 4,
 "nbformat_minor": 5
}
