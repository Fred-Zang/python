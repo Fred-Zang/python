{
 "cells": [
  {
   "cell_type": "markdown",
   "id": "44ec8fa5-edd9-49fd-894c-73c1e91e2144",
   "metadata": {},
   "source": [
    "### cercle de R=1 => x²+y² = 1 et Aire d'un quart de cercle = Pi\n",
    "### Méthode de monté-Carlo\n",
    "**générer n random** de (x, y) dans le carré [0, 1] pour x et y => si n grand on obtient une valeur approchée de Pi\n",
    "car la probabilité d'un tirage aléatoire dans l'aire souhaité = limite de la proportion de succés dans l'aire si n tirage très grand"
   ]
  },
  {
   "cell_type": "code",
   "execution_count": 1,
   "id": "ef2c8716-b360-43d3-b7bd-b505c0917767",
   "metadata": {},
   "outputs": [
    {
     "name": "stdout",
     "output_type": "stream",
     "text": [
      " valeur de pi approchée par 1000000 randoms générés = 3.14188\n"
     ]
    }
   ],
   "source": [
    "from random import *\n",
    "\n",
    "compteur = 0    # compteur de random dans l'aire de la courbe que l'on veut calculer\n",
    "n = 1000000  # à partir de 10^7 ça devient long\n",
    "\n",
    "\n",
    "for i in range(0, n):\n",
    "    x = random()  # 1 nombre aléatoire entre 0 et 1\n",
    "    y = random()\n",
    "    if x*x + y*y <=1:  # si (x, y) est dans le cercle\n",
    "        compteur += 1    \n",
    "\" incrémentation de +1 ( +5 possible avec +=)\"\n",
    "        \n",
    "aire_quart_cercle = 4*compteur/n\n",
    "        \n",
    "print(f' valeur de pi approchée par {n} randoms générés = {aire_quart_cercle}')"
   ]
  },
  {
   "cell_type": "code",
   "execution_count": null,
   "id": "ff7693dd-24eb-4275-bb51-dde6bd17c0d9",
   "metadata": {},
   "outputs": [],
   "source": [
    "\n"
   ]
  },
  {
   "cell_type": "code",
   "execution_count": null,
   "id": "dc2f1bb8-e61f-4717-bbaa-2ad399ec1b2f",
   "metadata": {},
   "outputs": [],
   "source": []
  }
 ],
 "metadata": {
  "kernelspec": {
   "display_name": "Python 3 (ipykernel)",
   "language": "python",
   "name": "python3"
  },
  "language_info": {
   "codemirror_mode": {
    "name": "ipython",
    "version": 3
   },
   "file_extension": ".py",
   "mimetype": "text/x-python",
   "name": "python",
   "nbconvert_exporter": "python",
   "pygments_lexer": "ipython3",
   "version": "3.9.12"
  }
 },
 "nbformat": 4,
 "nbformat_minor": 5
}
